{
 "cells": [
  {
   "cell_type": "code",
   "execution_count": 4,
   "metadata": {},
   "outputs": [],
   "source": [
    "import json\n",
    "import pandas as pd"
   ]
  },
  {
   "cell_type": "code",
   "execution_count": 5,
   "metadata": {},
   "outputs": [],
   "source": [
    "with open(\"./toy_data.json\") as f:\n",
    "    data = json.load(f)"
   ]
  },
  {
   "cell_type": "code",
   "execution_count": 7,
   "metadata": {},
   "outputs": [],
   "source": [
    "titles = []\n",
    "articles = []"
   ]
  },
  {
   "cell_type": "code",
   "execution_count": 8,
   "metadata": {},
   "outputs": [],
   "source": [
    "for k in data:\n",
    "    titles.append(k)\n",
    "    articles.append(data[k])"
   ]
  },
  {
   "cell_type": "code",
   "execution_count": 9,
   "metadata": {},
   "outputs": [],
   "source": [
    "df = pd.DataFrame(list(zip(titles, articles)),\n",
    "               columns =['title', 'article'])"
   ]
  },
  {
   "cell_type": "code",
   "execution_count": 10,
   "metadata": {},
   "outputs": [
    {
     "data": {
      "text/html": [
       "<div>\n",
       "<style scoped>\n",
       "    .dataframe tbody tr th:only-of-type {\n",
       "        vertical-align: middle;\n",
       "    }\n",
       "\n",
       "    .dataframe tbody tr th {\n",
       "        vertical-align: top;\n",
       "    }\n",
       "\n",
       "    .dataframe thead th {\n",
       "        text-align: right;\n",
       "    }\n",
       "</style>\n",
       "<table border=\"1\" class=\"dataframe\">\n",
       "  <thead>\n",
       "    <tr style=\"text-align: right;\">\n",
       "      <th></th>\n",
       "      <th>title</th>\n",
       "      <th>article</th>\n",
       "    </tr>\n",
       "  </thead>\n",
       "  <tbody>\n",
       "    <tr>\n",
       "      <th>0</th>\n",
       "      <td>预训练模型的训练任务在 MLM 之外还有哪些有效方式？</td>\n",
       "      <td>MLM和NSP分别对应的是Token级别和句子级别两个粒度的任务，可以替代NSP的任务还真不...</td>\n",
       "    </tr>\n",
       "    <tr>\n",
       "      <th>1</th>\n",
       "      <td>如何通俗易懂地解释卷积？</td>\n",
       "      <td>对卷积的困惑\\n\\n卷积这个概念，很早以前就学过，但是一直没有搞懂。教科书上通常会给出定义，...</td>\n",
       "    </tr>\n",
       "    <tr>\n",
       "      <th>2</th>\n",
       "      <td>如何理解 Graph Convolutional Network（GCN）？</td>\n",
       "      <td>偏个题，我不说怎么理解了，说说具体怎么用。\\n\\ngnn的整体应用通常分为三种，即预测节点属...</td>\n",
       "    </tr>\n",
       "    <tr>\n",
       "      <th>3</th>\n",
       "      <td>你有哪些deep learning（rnn、cnn）调参的经验？</td>\n",
       "      <td>总结一下在旷视实习两年来的炼丹经验，我主要做了一些 RL，图像质量，图像分类，GAN 相关的...</td>\n",
       "    </tr>\n",
       "    <tr>\n",
       "      <th>4</th>\n",
       "      <td>Pretrain Language Models</td>\n",
       "      <td></td>\n",
       "    </tr>\n",
       "    <tr>\n",
       "      <th>5</th>\n",
       "      <td>如何培养自己深度思考的习惯？</td>\n",
       "      <td>千万别点开！千万别点开！\\n\\n因为这个回答，一旦点开，你就可能与过去的思维模式彻底告别。\\...</td>\n",
       "    </tr>\n",
       "    <tr>\n",
       "      <th>6</th>\n",
       "      <td>Automatic Knowledge Graph Construction</td>\n",
       "      <td>学习 paper： Wu X, Wu J, Fu X, et al. Automatic K...</td>\n",
       "    </tr>\n",
       "    <tr>\n",
       "      <th>7</th>\n",
       "      <td>Towards a Universal Continuous Knowledge Base</td>\n",
       "      <td>paper link :https://arxiv.org/abs/2012.13568v1...</td>\n",
       "    </tr>\n",
       "    <tr>\n",
       "      <th>8</th>\n",
       "      <td>文献（论文）阅读笔记怎么写？</td>\n",
       "      <td>建议收藏！！这三步绝对可以帮你把文献阅读速度翻几倍。想提高文献阅读效率一定要分阶段来做，不可...</td>\n",
       "    </tr>\n",
       "    <tr>\n",
       "      <th>9</th>\n",
       "      <td>有问题，就会有答案</td>\n",
       "      <td></td>\n",
       "    </tr>\n",
       "    <tr>\n",
       "      <th>10</th>\n",
       "      <td>BERT 可解释性-从\"头\"说起</td>\n",
       "      <td>一、背景介绍\\n\\n搜索场景下用户搜索的 query 和召回文章标题(title)的相关性对...</td>\n",
       "    </tr>\n",
       "    <tr>\n",
       "      <th>11</th>\n",
       "      <td>NLP文本匹配问题的本质是不是 对于要预测的句子，遍历候选句子 从训练数据集里寻找最相似的p...</td>\n",
       "      <td>谢霍华德大佬的邀啊，受宠若惊。\\n\\n咱先把定义弄明白吧。\\n\\n文本匹配其实是nlp中的一...</td>\n",
       "    </tr>\n",
       "    <tr>\n",
       "      <th>12</th>\n",
       "      <td>刚确定研究方向是知识图谱方向，想请问该如何着手学习呢？</td>\n",
       "      <td>首先，说一下我了解到的领域现状。随着人工智能技术的不断进步，认知智能的研究越来越受到学术界的...</td>\n",
       "    </tr>\n",
       "    <tr>\n",
       "      <th>13</th>\n",
       "      <td>graph neural network</td>\n",
       "      <td></td>\n",
       "    </tr>\n",
       "    <tr>\n",
       "      <th>14</th>\n",
       "      <td>alexnet多GPU使用时代码怎么写？</td>\n",
       "      <td>出过书的工程师，讲课果然不一样，就是很透彻，很多东西能讲到精髓，让你豁然开朗。 1、Alex...</td>\n",
       "    </tr>\n",
       "  </tbody>\n",
       "</table>\n",
       "</div>"
      ],
      "text/plain": [
       "                                                title  \\\n",
       "0                         预训练模型的训练任务在 MLM 之外还有哪些有效方式？   \n",
       "1                                        如何通俗易懂地解释卷积？   \n",
       "2              如何理解 Graph Convolutional Network（GCN）？   \n",
       "3                    你有哪些deep learning（rnn、cnn）调参的经验？   \n",
       "4                            Pretrain Language Models   \n",
       "5                                      如何培养自己深度思考的习惯？   \n",
       "6              Automatic Knowledge Graph Construction   \n",
       "7       Towards a Universal Continuous Knowledge Base   \n",
       "8                                      文献（论文）阅读笔记怎么写？   \n",
       "9                                           有问题，就会有答案   \n",
       "10                                   BERT 可解释性-从\"头\"说起   \n",
       "11  NLP文本匹配问题的本质是不是 对于要预测的句子，遍历候选句子 从训练数据集里寻找最相似的p...   \n",
       "12                        刚确定研究方向是知识图谱方向，想请问该如何着手学习呢？   \n",
       "13                               graph neural network   \n",
       "14                               alexnet多GPU使用时代码怎么写？   \n",
       "\n",
       "                                              article  \n",
       "0   MLM和NSP分别对应的是Token级别和句子级别两个粒度的任务，可以替代NSP的任务还真不...  \n",
       "1   对卷积的困惑\\n\\n卷积这个概念，很早以前就学过，但是一直没有搞懂。教科书上通常会给出定义，...  \n",
       "2   偏个题，我不说怎么理解了，说说具体怎么用。\\n\\ngnn的整体应用通常分为三种，即预测节点属...  \n",
       "3   总结一下在旷视实习两年来的炼丹经验，我主要做了一些 RL，图像质量，图像分类，GAN 相关的...  \n",
       "4                                                      \n",
       "5   千万别点开！千万别点开！\\n\\n因为这个回答，一旦点开，你就可能与过去的思维模式彻底告别。\\...  \n",
       "6   学习 paper： Wu X, Wu J, Fu X, et al. Automatic K...  \n",
       "7   paper link :https://arxiv.org/abs/2012.13568v1...  \n",
       "8   建议收藏！！这三步绝对可以帮你把文献阅读速度翻几倍。想提高文献阅读效率一定要分阶段来做，不可...  \n",
       "9                                                      \n",
       "10  一、背景介绍\\n\\n搜索场景下用户搜索的 query 和召回文章标题(title)的相关性对...  \n",
       "11  谢霍华德大佬的邀啊，受宠若惊。\\n\\n咱先把定义弄明白吧。\\n\\n文本匹配其实是nlp中的一...  \n",
       "12  首先，说一下我了解到的领域现状。随着人工智能技术的不断进步，认知智能的研究越来越受到学术界的...  \n",
       "13                                                     \n",
       "14  出过书的工程师，讲课果然不一样，就是很透彻，很多东西能讲到精髓，让你豁然开朗。 1、Alex...  "
      ]
     },
     "execution_count": 10,
     "metadata": {},
     "output_type": "execute_result"
    }
   ],
   "source": [
    "df"
   ]
  },
  {
   "cell_type": "code",
   "execution_count": 11,
   "metadata": {},
   "outputs": [],
   "source": [
    "df.to_csv(\"links.csv\", index = False)"
   ]
  },
  {
   "cell_type": "code",
   "execution_count": null,
   "metadata": {},
   "outputs": [],
   "source": []
  }
 ],
 "metadata": {
  "kernelspec": {
   "display_name": "Python 3",
   "language": "python",
   "name": "python3"
  },
  "language_info": {
   "codemirror_mode": {
    "name": "ipython",
    "version": 3
   },
   "file_extension": ".py",
   "mimetype": "text/x-python",
   "name": "python",
   "nbconvert_exporter": "python",
   "pygments_lexer": "ipython3",
   "version": "3.6.10"
  }
 },
 "nbformat": 4,
 "nbformat_minor": 4
}
